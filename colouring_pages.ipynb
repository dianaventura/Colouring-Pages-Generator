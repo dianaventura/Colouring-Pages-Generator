{
  "nbformat": 4,
  "nbformat_minor": 0,
  "metadata": {
    "colab": {
      "provenance": [],
      "mount_file_id": "1Jhznv69QdDnwUNABBUlmAz19aYU0g7mE",
      "authorship_tag": "ABX9TyOeMvDBbeGHa2pNFmydjwOe",
      "include_colab_link": true
    },
    "kernelspec": {
      "name": "python3",
      "display_name": "Python 3"
    },
    "language_info": {
      "name": "python"
    }
  },
  "cells": [
    {
      "cell_type": "markdown",
      "metadata": {
        "id": "view-in-github",
        "colab_type": "text"
      },
      "source": [
        "<a href=\"https://colab.research.google.com/github/dianaventura/colouring_pages/blob/main/colouring_pages.ipynb\" target=\"_parent\"><img src=\"https://colab.research.google.com/assets/colab-badge.svg\" alt=\"Open In Colab\"/></a>"
      ]
    },
    {
      "cell_type": "code",
      "source": [
        "from google.colab import drive\n",
        "import os\n",
        "import cv2\n",
        "import numpy as np\n",
        "\n",
        "import torch\n",
        "from torchvision import transforms\n",
        "from PIL import Image"
      ],
      "metadata": {
        "id": "Z359Aqy-YbCW"
      },
      "execution_count": 48,
      "outputs": []
    },
    {
      "cell_type": "code",
      "source": [
        "drive.mount('/content/drive')"
      ],
      "metadata": {
        "colab": {
          "base_uri": "https://localhost:8080/"
        },
        "id": "Gu1-kabBVUxj",
        "outputId": "dfe29d65-bac3-49fb-bf83-37529798ebe9"
      },
      "execution_count": 50,
      "outputs": [
        {
          "output_type": "stream",
          "name": "stdout",
          "text": [
            "Drive already mounted at /content/drive; to attempt to forcibly remount, call drive.mount(\"/content/drive\", force_remount=True).\n"
          ]
        }
      ]
    },
    {
      "cell_type": "code",
      "source": [
        "# Set folder paths\n",
        "input_folder = '/content/drive/My Drive/ColoringPageProject/uploads/'\n",
        "output_folder = '/content/drive/My Drive/ColoringPageProject/processed/'\n",
        "\n",
        "if not os.path.exists(input_folder):\n",
        "    os.makedirs(input_folder)\n",
        "\n",
        "if not os.path.exists(output_folder):\n",
        "    os.makedirs(output_folder)"
      ],
      "metadata": {
        "id": "IfXTYDNLYr72"
      },
      "execution_count": 51,
      "outputs": []
    },
    {
      "cell_type": "code",
      "source": [
        "\n",
        "def convert_to_coloring_page(image_path, output_path):\n",
        "    image = cv2.imread(image_path, cv2.IMREAD_COLOR)\n",
        "    if image is None:\n",
        "        print(f\"Error: Unable to read the image at {image_path}\")\n",
        "        return\n",
        "\n",
        "    # to grayscale\n",
        "    gray_image = cv2.cvtColor(image, cv2.COLOR_BGR2GRAY)\n",
        "\n",
        "    # guassian blur to smooth\n",
        "    blurred_image = cv2.GaussianBlur(gray_image, (5, 5), 0)\n",
        "\n",
        "    # using canny for edge detection\n",
        "    edges = cv2.Canny(blurred_image, 100, 200)\n",
        "\n",
        "    # invert edges\n",
        "    inv_edges = cv2.bitwise_not(edges)\n",
        "\n",
        "    # make white background image\n",
        "    white_background = np.ones_like(gray_image) * 255\n",
        "\n",
        "    # copy edges onto background images\n",
        "    online_image = cv2.bitwise_and(white_background, white_background, mask=inv_edges)\n",
        "\n",
        "    # save final outline\n",
        "    cv2.imwrite(output_path, online_image)\n"
      ],
      "metadata": {
        "id": "U9vTFLpcYxJt"
      },
      "execution_count": 61,
      "outputs": []
    },
    {
      "cell_type": "code",
      "source": [
        "#Process em\n",
        "# List all files in the upload folder\n",
        "uploaded_files = os.listdir(input_folder)\n",
        "\n",
        "for file_name in uploaded_files:\n",
        "    input_path = os.path.join(input_folder, file_name)\n",
        "    output_path = os.path.join(output_folder, file_name)\n",
        "\n",
        "    # Convert the image to a coloring page\n",
        "    convert_to_coloring_page(input_path, output_path)\n",
        "\n",
        "print(\"Processing complete!! Check the processed folder for results.\")"
      ],
      "metadata": {
        "colab": {
          "base_uri": "https://localhost:8080/"
        },
        "id": "dBo1q4HwcBdE",
        "outputId": "36d1cb38-3182-462f-f728-2430135786b8"
      },
      "execution_count": 62,
      "outputs": [
        {
          "output_type": "stream",
          "name": "stdout",
          "text": [
            "Processing complete!! Check the processed folder for results.\n"
          ]
        }
      ]
    }
  ]
}